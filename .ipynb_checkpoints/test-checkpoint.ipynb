{
 "cells": [
  {
   "cell_type": "code",
   "execution_count": 2,
   "id": "1ee6300d-8dab-4ab6-b33a-f5624bef4cb5",
   "metadata": {},
   "outputs": [
    {
     "name": "stdout",
     "output_type": "stream",
     "text": [
      "📤 Uploading RFP_5.pdf → s3://presales-rfp-inputs/ravi/RFP_5.pdf ...\n",
      "✅ File uploaded successfully.\n",
      "\n",
      "[INFO] ✅ Using Claude inference profile: arn:aws:bedrock:us-east-1:040504913362:inference-profile/us.anthropic.claude-3-5-sonnet-20241022-v2:0\n",
      "[INFO] ✅ Using Claude 3.5 Sonnet profile: arn:aws:bedrock:us-east-1:040504913362:inference-profile/us.anthropic.claude-3-5-sonnet-20241022-v2:0\n",
      "[INFO] ✅ Using Claude 3.5 Sonnet profile: arn:aws:bedrock:us-east-1:040504913362:inference-profile/us.anthropic.claude-3-5-sonnet-20241022-v2:0\n",
      "[INFO] ✅ Using Claude 3.5 Sonnet profile: arn:aws:bedrock:us-east-1:040504913362:inference-profile/us.anthropic.claude-3-5-sonnet-20241022-v2:0\n",
      "🚀 Running full RFx automation pipeline...\n",
      "\n",
      "\n",
      "🚀 Starting RFx Orchestrator Agent for: ravi/RFP_5.pdf\n",
      "\n",
      "🧾 [STEP 1] Running RFx Parsing Agent...\n",
      "\n",
      "======================================================================\n",
      "[INFO] Starting Hybrid RFX Parsing Agent for: ravi/RFP_5.pdf\n",
      "======================================================================\n",
      "[INFO] Extracting text from PDF using PyMuPDF...\n",
      "[INFO] 🚀 Trying Claude 3.5 Sonnet...\n",
      "[INFO] ✅ Claude succeeded.\n",
      "[INFO] ✅ Saved parsed output to s3://presales-rfp-outputs/ravi/parsed_outputs/RFP_5_20251014_155917_parsed.json\n",
      "======================================================================\n",
      "\n",
      "💬 [STEP 2] Running Clarification Agent...\n",
      "[INFO] Running ClarificationAgent (Claude 3.5) for: ravi/parsed_outputs/RFP_5_20251014_155917_parsed.json\n",
      "[INFO] 🚀 Invoking Claude 3.5 Sonnet...\n",
      "[INFO] ✅ Claude 3.5 Sonnet succeeded.\n",
      "[INFO] Extracted 5 clarifications.\n",
      "[INFO] Clarifications saved to s3://presales-rfp-outputs/ravi/clarifications/RFP_5_20251014_155917_parsed_clarifications_20251014_155932.json\n",
      "\n",
      "💰 [STEP 3] Running Pricing & Funding Agent...\n",
      "[INFO] PricingFundingAgent (Claude 3.5) run for: parsed=ravi/parsed_outputs/RFP_5_20251014_155917_parsed.json, clarifications=ravi/clarifications/RFP_5_20251014_155917_parsed_clarifications_20251014_155932.json\n",
      "[INFO] ✅ Pricing report saved to s3://presales-rfp-outputs/ravi/pricing_outputs/RFP_5_20251014_155917_parsed_pricing_20251014_155939.json\n",
      "\n",
      "📄 [STEP 4] Running SOW Drafting Agent...\n",
      "[INFO] Running SOWDraftingAgent (Claude 3.5) for user data under: ravi/parsed_outputs/RFP_5_20251014_155917_parsed.json\n",
      "[INFO] Generating SOW sections via Claude 3.5 Sonnet...\n",
      "[INFO] Creating SOW DOCX file...\n",
      "[INFO] ✅ SOW Draft saved to s3://presales-rfp-outputs/ravi/sow_drafts/'CSU_Guide'_-_AI-Powered_Student_Support_and_Information_Chatbot_SOW_20251014_155957.docx\n",
      "\n",
      "✅ Workflow completed successfully in 52.68s.\n",
      "\n",
      "🧾 Log saved to: s3://presales-rfp-outputs/ravi/workflow_logs/rfx_orchestrator_run_20251014_155957.json\n",
      "\n",
      "🏁 Final Orchestrator Result:\n",
      "✅ RFx Parsing: ravi/parsed_outputs/RFP_5_20251014_155917_parsed.json\n",
      "✅ Clarification: ravi/clarifications/RFP_5_20251014_155917_parsed_clarifications_20251014_155932.json\n",
      "✅ Pricing & Funding: ravi/pricing_outputs/RFP_5_20251014_155917_parsed_pricing_20251014_155939.json\n",
      "✅ SOW Drafting: ravi/sow_drafts/'CSU_Guide'_-_AI-Powered_Student_Support_and_Information_Chatbot_SOW_20251014_155957.docx\n",
      "\n",
      "📂 Workflow Log saved in: completed\n"
     ]
    }
   ],
   "source": [
    "import boto3, os\n",
    "from rfx_orchestrator_agent import RFxOrchestratorAgent\n",
    "\n",
    "# === CONFIGURATION ===\n",
    "region = \"us-east-1\"\n",
    "s3 = boto3.client(\"s3\", region_name=region)\n",
    "\n",
    "bucket_in = \"presales-rfp-inputs\"\n",
    "bucket_out = \"presales-rfp-outputs\"\n",
    "\n",
    "# === STEP 1️⃣: Choose local file ===\n",
    "local_file_path = \"RFP_5.pdf\"  # 👈 change this to your local file\n",
    "user = \"ravi\"  # folder name/prefix for your uploads\n",
    "s3_key = f\"{user}/{os.path.basename(local_file_path)}\"\n",
    "\n",
    "# === STEP 2️⃣: Upload file to S3 ===\n",
    "print(f\"📤 Uploading {local_file_path} → s3://{bucket_in}/{s3_key} ...\")\n",
    "s3.upload_file(local_file_path, bucket_in, s3_key)\n",
    "print(\"✅ File uploaded successfully.\\n\")\n",
    "\n",
    "# === STEP 3️⃣: Run Orchestrator ===\n",
    "orchestrator = RFxOrchestratorAgent(region=region)\n",
    "\n",
    "print(\"🚀 Running full RFx automation pipeline...\\n\")\n",
    "result = orchestrator.run(\n",
    "    bucket_in=bucket_in,\n",
    "    input_key=s3_key,\n",
    "    bucket_out=bucket_out\n",
    ")\n",
    "\n",
    "# === STEP 4️⃣: Display Results ===\n",
    "print(\"\\n🏁 Final Orchestrator Result:\")\n",
    "for step in result[\"steps\"]:\n",
    "    print(f\"✅ {step['step']}: {step['output']}\")\n",
    "\n",
    "print(f\"\\n📂 Workflow Log saved in: {result.get('status')}\")\n"
   ]
  },
  {
   "cell_type": "code",
   "execution_count": 2,
   "id": "3784f3ef-0eb7-47de-b6b4-eca66b4f01eb",
   "metadata": {},
   "outputs": [
    {
     "name": "stdout",
     "output_type": "stream",
     "text": [
      "Requirement already satisfied: pydantic_core in /home/ec2-user/anaconda3/envs/python3/lib/python3.10/site-packages (2.41.4)\n",
      "Requirement already satisfied: typing-extensions>=4.14.1 in /home/ec2-user/anaconda3/envs/python3/lib/python3.10/site-packages (from pydantic_core) (4.15.0)\n",
      "Note: you may need to restart the kernel to use updated packages.\n"
     ]
    }
   ],
   "source": [
    "pip install pydantic_core"
   ]
  },
  {
   "cell_type": "code",
   "execution_count": 1,
   "id": "c0d5c6eb-5d7c-4778-92f6-db7da938302d",
   "metadata": {},
   "outputs": [
    {
     "name": "stdout",
     "output_type": "stream",
     "text": [
      "<module 'pydantic_core' from '/home/ec2-user/anaconda3/envs/python3/lib/python3.10/site-packages/pydantic_core/__init__.py'>\n",
      "['ArgsKwargs', 'CoreConfig', 'CoreSchema', 'CoreSchemaType', 'ErrorDetails', 'ErrorType', 'ErrorTypeInfo', 'InitErrorDetails', 'MISSING', 'MultiHostHost', 'MultiHostUrl', 'PydanticCustomError', 'PydanticKnownError', 'PydanticOmit', 'PydanticSerializationError', 'PydanticSerializationUnexpectedValue', 'PydanticUndefined', 'PydanticUndefinedType', 'PydanticUseDefault', 'SchemaError', 'SchemaSerializer', 'SchemaValidator', 'Sentinel', 'Some', 'TzInfo', 'Url', 'ValidationError', '_Any', '_NotRequired', '_TypedDict', '__all__', '__builtins__', '__cached__', '__doc__', '__file__', '__loader__', '__name__', '__package__', '__path__', '__spec__', '__version__', '_pydantic_core', '_sys', 'annotations', 'core_schema', 'from_json', 'to_json', 'to_jsonable_python']\n"
     ]
    }
   ],
   "source": [
    "import pydantic_core\n",
    "print(pydantic_core)\n",
    "print(dir(pydantic_core))\n"
   ]
  },
  {
   "cell_type": "code",
   "execution_count": 3,
   "id": "218a0886-93d7-41a4-bef6-acea7581085d",
   "metadata": {},
   "outputs": [
    {
     "name": "stdout",
     "output_type": "stream",
     "text": [
      "/home/ec2-user/anaconda3/envs/python3/lib/python3.10/site-packages/pydantic_core/_pydantic_core.cpython-310-x86_64-linux-gnu.so: ELF 64-bit LSB shared object, x86-64, version 1 (SYSV), dynamically linked, BuildID[sha1]=8397ab727c41e8f248d51f0c749dd45f8b3519eb, stripped\n"
     ]
    }
   ],
   "source": [
    "!file /home/ec2-user/anaconda3/envs/python3/lib/python3.10/site-packages/pydantic_core/_pydantic_core*.so\n"
   ]
  },
  {
   "cell_type": "code",
   "execution_count": 1,
   "id": "52a29a4e-ccb2-401e-a113-8e6afd6da66d",
   "metadata": {},
   "outputs": [
    {
     "ename": "ModuleNotFoundError",
     "evalue": "No module named 'strands'",
     "output_type": "error",
     "traceback": [
      "\u001b[0;31m---------------------------------------------------------------------------\u001b[0m",
      "\u001b[0;31mModuleNotFoundError\u001b[0m                       Traceback (most recent call last)",
      "Cell \u001b[0;32mIn[1], line 1\u001b[0m\n\u001b[0;32m----> 1\u001b[0m \u001b[38;5;28;01mfrom\u001b[39;00m\u001b[38;5;250m \u001b[39m\u001b[38;5;21;01mstrands\u001b[39;00m\u001b[38;5;250m \u001b[39m\u001b[38;5;28;01mimport\u001b[39;00m Agent, tool\n\u001b[1;32m      2\u001b[0m \u001b[38;5;28;01mfrom\u001b[39;00m\u001b[38;5;250m \u001b[39m\u001b[38;5;21;01mbedrock_agentcore\u001b[39;00m\u001b[38;5;250m \u001b[39m\u001b[38;5;28;01mimport\u001b[39;00m BedrockAgentCoreApp\n\u001b[1;32m      3\u001b[0m \u001b[38;5;28;01mfrom\u001b[39;00m\u001b[38;5;250m \u001b[39m\u001b[38;5;21;01mstrands\u001b[39;00m\u001b[38;5;21;01m.\u001b[39;00m\u001b[38;5;21;01mmodels\u001b[39;00m\u001b[38;5;250m \u001b[39m\u001b[38;5;28;01mimport\u001b[39;00m BedrockModel\n",
      "\u001b[0;31mModuleNotFoundError\u001b[0m: No module named 'strands'"
     ]
    }
   ],
   "source": [
    "from strands import Agent, tool\n",
    "from bedrock_agentcore import BedrockAgentCoreApp\n",
    "from strands.models import BedrockModel\n",
    "from strands.agent.conversation_manager import SummarizingConversationManager\n",
    "\n",
    "from rfx_orchestrator_agent import RFxOrchestratorAgent\n",
    "from utils import get_guardrail_id\n",
    "\n",
    "app = BedrockAgentCoreApp()\n",
    "\n",
    "ORCHESTRATOR_PROMPT = \"\"\"You are an intelligent RFP Orchestrator Agent.\n",
    "\n",
    "You coordinate multiple internal sub-agents:\n",
    "- **Parsing Agent**: extracts structured data from RFP documents.\n",
    "- **Clarification Agent**: identifies ambiguities or missing info.\n",
    "- **Pricing Agent**: computes indicative pricing and funding.\n",
    "- **SOW Agent**: drafts a statement of work.\n",
    "\n",
    "Follow these rules:\n",
    "1. When a user uploads or mentions a PDF, run the full RFP pipeline.\n",
    "2. Stream updates as tasks complete.\n",
    "3. Return structured summaries and file links from S3.\n",
    "4. Always maintain a professional, explanatory tone.\n",
    "\"\"\"\n",
    "\n",
    "# Conversation memory\n",
    "conversation_manager = SummarizingConversationManager(\n",
    "    summary_ratio=0.3,\n",
    "    preserve_recent_messages=5,\n",
    ")\n",
    "\n",
    "# Bedrock model + guardrails\n",
    "bedrock_model = BedrockModel(\n",
    "    model_id=\"us.anthropic.claude-3-7-sonnet-20250219-v1:0\",\n",
    "    region_name=\"us-west-2\",\n",
    "    temperature=0.2,\n",
    "    guardrail_id=get_guardrail_id(),\n",
    "    guardrail_version=\"DRAFT\",\n",
    "    guardrail_trace=\"enabled\",\n",
    ")\n",
    "@tool\n",
    "def run_rfx_pipeline(bucket_in: str, input_key: str, bucket_out: str) -> str:\n",
    "    \"\"\"Runs the full RFP automation pipeline on a given PDF in S3.\"\"\"\n",
    "    try:\n",
    "        orchestrator = RFxOrchestratorAgent()\n",
    "        result = orchestrator.run(\n",
    "            bucket_in=bucket_in,\n",
    "            input_key=input_key,\n",
    "            bucket_out=bucket_out,\n",
    "        )\n",
    "        return f\"✅ Pipeline complete. Output stored in s3://{bucket_out}/{result}\"\n",
    "    except Exception as e:\n",
    "        return f\"❌ Error running orchestrator: {e}\"\n",
    "        \n",
    "orchestrator_agent = Agent(\n",
    "    model=bedrock_model,\n",
    "    system_prompt=ORCHESTRATOR_PROMPT,\n",
    "    tools=[run_rfx_pipeline],\n",
    "    conversation_manager=conversation_manager,\n",
    ")\n"
   ]
  },
  {
   "cell_type": "code",
   "execution_count": null,
   "id": "68f99852-39e3-4177-ac87-80f4472b27c3",
   "metadata": {},
   "outputs": [],
   "source": [
    "!pip install strands-agent"
   ]
  },
  {
   "cell_type": "code",
   "execution_count": 2,
   "id": "c1ea92d6-491e-47d7-af5a-bfc99f932680",
   "metadata": {},
   "outputs": [],
   "source": [
    "import boto3\n",
    "from io import BytesIO\n",
    "from PIL import Image\n",
    "\n",
    "def read_image_from_s3(bucket_name: str, object_key: str) -> Image.Image:\n",
    "    \"\"\"\n",
    "    Read an image from S3 and return as a PIL Image object.\n",
    "\n",
    "    Args:\n",
    "        bucket_name: Name of the S3 bucket\n",
    "        object_key: Key of the image in S3\n",
    "\n",
    "    Returns:\n",
    "        PIL.Image.Image object\n",
    "    \"\"\"\n",
    "    s3 = boto3.client(\"s3\")\n",
    "    \n",
    "    # Get object from S3\n",
    "    response = s3.get_object(Bucket=bucket_name, Key=object_key)\n",
    "    image_bytes = response['Body'].read()\n",
    "    \n",
    "    # Open image with PIL\n",
    "    image = Image.open(BytesIO(image_bytes))\n",
    "    return image\n",
    "\n"
   ]
  },
  {
   "cell_type": "code",
   "execution_count": 3,
   "id": "9d6eef2c-5b58-4a10-85a8-6b4a875fb3bd",
   "metadata": {},
   "outputs": [
    {
     "ename": "NoSuchBucket",
     "evalue": "An error occurred (NoSuchBucket) when calling the GetObject operation: The specified bucket does not exist",
     "output_type": "error",
     "traceback": [
      "\u001b[0;31m---------------------------------------------------------------------------\u001b[0m",
      "\u001b[0;31mNoSuchBucket\u001b[0m                              Traceback (most recent call last)",
      "Cell \u001b[0;32mIn[3], line 4\u001b[0m\n\u001b[1;32m      1\u001b[0m bucket \u001b[38;5;241m=\u001b[39m \u001b[38;5;124m\"\u001b[39m\u001b[38;5;124mpresales-rfp-ouputs\u001b[39m\u001b[38;5;124m\"\u001b[39m\n\u001b[1;32m      2\u001b[0m key \u001b[38;5;241m=\u001b[39m \u001b[38;5;124m\"\u001b[39m\u001b[38;5;124mravi/architecture_diagrams/ravi_diagram_20251017_030449.png\u001b[39m\u001b[38;5;124m\"\u001b[39m\n\u001b[0;32m----> 4\u001b[0m img \u001b[38;5;241m=\u001b[39m \u001b[43mread_image_from_s3\u001b[49m\u001b[43m(\u001b[49m\u001b[43mbucket\u001b[49m\u001b[43m,\u001b[49m\u001b[43m \u001b[49m\u001b[43mkey\u001b[49m\u001b[43m)\u001b[49m\n\u001b[1;32m      5\u001b[0m img\u001b[38;5;241m.\u001b[39mshow()  \u001b[38;5;66;03m# Opens the image in the default viewer\u001b[39;00m\n",
      "Cell \u001b[0;32mIn[2], line 19\u001b[0m, in \u001b[0;36mread_image_from_s3\u001b[0;34m(bucket_name, object_key)\u001b[0m\n\u001b[1;32m     16\u001b[0m s3 \u001b[38;5;241m=\u001b[39m boto3\u001b[38;5;241m.\u001b[39mclient(\u001b[38;5;124m\"\u001b[39m\u001b[38;5;124ms3\u001b[39m\u001b[38;5;124m\"\u001b[39m)\n\u001b[1;32m     18\u001b[0m \u001b[38;5;66;03m# Get object from S3\u001b[39;00m\n\u001b[0;32m---> 19\u001b[0m response \u001b[38;5;241m=\u001b[39m \u001b[43ms3\u001b[49m\u001b[38;5;241;43m.\u001b[39;49m\u001b[43mget_object\u001b[49m\u001b[43m(\u001b[49m\u001b[43mBucket\u001b[49m\u001b[38;5;241;43m=\u001b[39;49m\u001b[43mbucket_name\u001b[49m\u001b[43m,\u001b[49m\u001b[43m \u001b[49m\u001b[43mKey\u001b[49m\u001b[38;5;241;43m=\u001b[39;49m\u001b[43mobject_key\u001b[49m\u001b[43m)\u001b[49m\n\u001b[1;32m     20\u001b[0m image_bytes \u001b[38;5;241m=\u001b[39m response[\u001b[38;5;124m'\u001b[39m\u001b[38;5;124mBody\u001b[39m\u001b[38;5;124m'\u001b[39m]\u001b[38;5;241m.\u001b[39mread()\n\u001b[1;32m     22\u001b[0m \u001b[38;5;66;03m# Open image with PIL\u001b[39;00m\n",
      "File \u001b[0;32m~/anaconda3/envs/python3/lib/python3.10/site-packages/botocore/client.py:602\u001b[0m, in \u001b[0;36mClientCreator._create_api_method.<locals>._api_call\u001b[0;34m(self, *args, **kwargs)\u001b[0m\n\u001b[1;32m    598\u001b[0m     \u001b[38;5;28;01mraise\u001b[39;00m \u001b[38;5;167;01mTypeError\u001b[39;00m(\n\u001b[1;32m    599\u001b[0m         \u001b[38;5;124mf\u001b[39m\u001b[38;5;124m\"\u001b[39m\u001b[38;5;132;01m{\u001b[39;00mpy_operation_name\u001b[38;5;132;01m}\u001b[39;00m\u001b[38;5;124m() only accepts keyword arguments.\u001b[39m\u001b[38;5;124m\"\u001b[39m\n\u001b[1;32m    600\u001b[0m     )\n\u001b[1;32m    601\u001b[0m \u001b[38;5;66;03m# The \"self\" in this scope is referring to the BaseClient.\u001b[39;00m\n\u001b[0;32m--> 602\u001b[0m \u001b[38;5;28;01mreturn\u001b[39;00m \u001b[38;5;28;43mself\u001b[39;49m\u001b[38;5;241;43m.\u001b[39;49m\u001b[43m_make_api_call\u001b[49m\u001b[43m(\u001b[49m\u001b[43moperation_name\u001b[49m\u001b[43m,\u001b[49m\u001b[43m \u001b[49m\u001b[43mkwargs\u001b[49m\u001b[43m)\u001b[49m\n",
      "File \u001b[0;32m~/anaconda3/envs/python3/lib/python3.10/site-packages/botocore/context.py:123\u001b[0m, in \u001b[0;36mwith_current_context.<locals>.decorator.<locals>.wrapper\u001b[0;34m(*args, **kwargs)\u001b[0m\n\u001b[1;32m    121\u001b[0m \u001b[38;5;28;01mif\u001b[39;00m hook:\n\u001b[1;32m    122\u001b[0m     hook()\n\u001b[0;32m--> 123\u001b[0m \u001b[38;5;28;01mreturn\u001b[39;00m \u001b[43mfunc\u001b[49m\u001b[43m(\u001b[49m\u001b[38;5;241;43m*\u001b[39;49m\u001b[43margs\u001b[49m\u001b[43m,\u001b[49m\u001b[43m \u001b[49m\u001b[38;5;241;43m*\u001b[39;49m\u001b[38;5;241;43m*\u001b[39;49m\u001b[43mkwargs\u001b[49m\u001b[43m)\u001b[49m\n",
      "File \u001b[0;32m~/anaconda3/envs/python3/lib/python3.10/site-packages/botocore/client.py:1078\u001b[0m, in \u001b[0;36mBaseClient._make_api_call\u001b[0;34m(self, operation_name, api_params)\u001b[0m\n\u001b[1;32m   1074\u001b[0m     error_code \u001b[38;5;241m=\u001b[39m request_context\u001b[38;5;241m.\u001b[39mget(\n\u001b[1;32m   1075\u001b[0m         \u001b[38;5;124m'\u001b[39m\u001b[38;5;124merror_code_override\u001b[39m\u001b[38;5;124m'\u001b[39m\n\u001b[1;32m   1076\u001b[0m     ) \u001b[38;5;129;01mor\u001b[39;00m error_info\u001b[38;5;241m.\u001b[39mget(\u001b[38;5;124m\"\u001b[39m\u001b[38;5;124mCode\u001b[39m\u001b[38;5;124m\"\u001b[39m)\n\u001b[1;32m   1077\u001b[0m     error_class \u001b[38;5;241m=\u001b[39m \u001b[38;5;28mself\u001b[39m\u001b[38;5;241m.\u001b[39mexceptions\u001b[38;5;241m.\u001b[39mfrom_code(error_code)\n\u001b[0;32m-> 1078\u001b[0m     \u001b[38;5;28;01mraise\u001b[39;00m error_class(parsed_response, operation_name)\n\u001b[1;32m   1079\u001b[0m \u001b[38;5;28;01melse\u001b[39;00m:\n\u001b[1;32m   1080\u001b[0m     \u001b[38;5;28;01mreturn\u001b[39;00m parsed_response\n",
      "\u001b[0;31mNoSuchBucket\u001b[0m: An error occurred (NoSuchBucket) when calling the GetObject operation: The specified bucket does not exist"
     ]
    }
   ],
   "source": [
    "\n",
    "bucket = \"presales-rfp-ouputs\"\n",
    "key = \"presales-rfp-ouputs/ravi/architecture_diagrams/ravi_diagram_20251017_030449.png\"\n",
    "\n",
    "img = read_image_from_s3(bucket, key)\n",
    "img.show()  # Opens the image in the default viewer\n"
   ]
  },
  {
   "cell_type": "code",
   "execution_count": null,
   "id": "3a6a6e72-96e3-4175-9e9c-f3be6d1e45f5",
   "metadata": {},
   "outputs": [],
   "source": []
  }
 ],
 "metadata": {
  "kernelspec": {
   "display_name": "conda_python3",
   "language": "python",
   "name": "conda_python3"
  },
  "language_info": {
   "codemirror_mode": {
    "name": "ipython",
    "version": 3
   },
   "file_extension": ".py",
   "mimetype": "text/x-python",
   "name": "python",
   "nbconvert_exporter": "python",
   "pygments_lexer": "ipython3",
   "version": "3.10.18"
  }
 },
 "nbformat": 4,
 "nbformat_minor": 5
}
